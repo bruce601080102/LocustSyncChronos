{
 "cells": [
  {
   "cell_type": "code",
   "execution_count": 1,
   "id": "little-program",
   "metadata": {},
   "outputs": [],
   "source": [
    "from selenium import webdriver\n",
    "from webdriver_manager.chrome import ChromeDriverManager"
   ]
  },
  {
   "cell_type": "code",
   "execution_count": 2,
   "id": "0510aef8",
   "metadata": {},
   "outputs": [],
   "source": [
    "! export DISPLAY=:1"
   ]
  },
  {
   "cell_type": "code",
   "execution_count": 3,
   "id": "exterior-exception",
   "metadata": {},
   "outputs": [
    {
     "name": "stderr",
     "output_type": "stream",
     "text": [
      "/tmp/ipykernel_5622/3440933547.py:5: DeprecationWarning: executable_path has been deprecated, please pass in a Service object\n",
      "  driver = webdriver.Chrome(ChromeDriverManager().install(), options=options)\n"
     ]
    },
    {
     "ename": "WebDriverException",
     "evalue": "Message: unknown error: Chrome failed to start: exited abnormally.\n  (unknown error: DevToolsActivePort file doesn't exist)\n  (The process started from chrome location /usr/bin/google-chrome is no longer running, so ChromeDriver is assuming that Chrome has crashed.)\nStacktrace:\n#0 0x5589c0b0b4e3 <unknown>\n#1 0x5589c083ac76 <unknown>\n#2 0x5589c0863d78 <unknown>\n#3 0x5589c0860029 <unknown>\n#4 0x5589c089eccc <unknown>\n#5 0x5589c089e47f <unknown>\n#6 0x5589c0895de3 <unknown>\n#7 0x5589c086b2dd <unknown>\n#8 0x5589c086c34e <unknown>\n#9 0x5589c0acb3e4 <unknown>\n#10 0x5589c0acf3d7 <unknown>\n#11 0x5589c0ad9b20 <unknown>\n#12 0x5589c0ad0023 <unknown>\n#13 0x5589c0a9e1aa <unknown>\n#14 0x5589c0af46b8 <unknown>\n#15 0x5589c0af4847 <unknown>\n#16 0x5589c0b04243 <unknown>\n#17 0x7ff6793d2609 start_thread\n",
     "output_type": "error",
     "traceback": [
      "\u001b[0;31m---------------------------------------------------------------------------\u001b[0m",
      "\u001b[0;31mWebDriverException\u001b[0m                        Traceback (most recent call last)",
      "Cell \u001b[0;32mIn[3], line 5\u001b[0m\n\u001b[1;32m      3\u001b[0m options\u001b[38;5;241m.\u001b[39madd_argument(\u001b[38;5;124m'\u001b[39m\u001b[38;5;124m--disable-dev-shm-usage\u001b[39m\u001b[38;5;124m'\u001b[39m)\n\u001b[1;32m      4\u001b[0m \u001b[38;5;66;03m# options.add_argument('--headless')\u001b[39;00m\n\u001b[0;32m----> 5\u001b[0m driver \u001b[38;5;241m=\u001b[39m \u001b[43mwebdriver\u001b[49m\u001b[38;5;241;43m.\u001b[39;49m\u001b[43mChrome\u001b[49m\u001b[43m(\u001b[49m\u001b[43mChromeDriverManager\u001b[49m\u001b[43m(\u001b[49m\u001b[43m)\u001b[49m\u001b[38;5;241;43m.\u001b[39;49m\u001b[43minstall\u001b[49m\u001b[43m(\u001b[49m\u001b[43m)\u001b[49m\u001b[43m,\u001b[49m\u001b[43m \u001b[49m\u001b[43moptions\u001b[49m\u001b[38;5;241;43m=\u001b[39;49m\u001b[43moptions\u001b[49m\u001b[43m)\u001b[49m\n",
      "File \u001b[0;32m/usr/local/lib/python3.8/dist-packages/selenium/webdriver/chrome/webdriver.py:70\u001b[0m, in \u001b[0;36mWebDriver.__init__\u001b[0;34m(self, executable_path, port, options, service_args, desired_capabilities, service_log_path, chrome_options, service, keep_alive)\u001b[0m\n\u001b[1;32m     67\u001b[0m \u001b[39mif\u001b[39;00m \u001b[39mnot\u001b[39;00m service:\n\u001b[1;32m     68\u001b[0m     service \u001b[39m=\u001b[39m Service(executable_path, port, service_args, service_log_path)\n\u001b[0;32m---> 70\u001b[0m \u001b[39msuper\u001b[39;49m(WebDriver, \u001b[39mself\u001b[39;49m)\u001b[39m.\u001b[39;49m\u001b[39m__init__\u001b[39;49m(DesiredCapabilities\u001b[39m.\u001b[39;49mCHROME[\u001b[39m'\u001b[39;49m\u001b[39mbrowserName\u001b[39;49m\u001b[39m'\u001b[39;49m], \u001b[39m\"\u001b[39;49m\u001b[39mgoog\u001b[39;49m\u001b[39m\"\u001b[39;49m,\n\u001b[1;32m     71\u001b[0m                                 port, options,\n\u001b[1;32m     72\u001b[0m                                 service_args, desired_capabilities,\n\u001b[1;32m     73\u001b[0m                                 service_log_path, service, keep_alive)\n",
      "File \u001b[0;32m/usr/local/lib/python3.8/dist-packages/selenium/webdriver/chromium/webdriver.py:92\u001b[0m, in \u001b[0;36mChromiumDriver.__init__\u001b[0;34m(self, browser_name, vendor_prefix, port, options, service_args, desired_capabilities, service_log_path, service, keep_alive)\u001b[0m\n\u001b[1;32m     89\u001b[0m \u001b[39mself\u001b[39m\u001b[39m.\u001b[39mservice\u001b[39m.\u001b[39mstart()\n\u001b[1;32m     91\u001b[0m \u001b[39mtry\u001b[39;00m:\n\u001b[0;32m---> 92\u001b[0m     RemoteWebDriver\u001b[39m.\u001b[39;49m\u001b[39m__init__\u001b[39;49m(\n\u001b[1;32m     93\u001b[0m         \u001b[39mself\u001b[39;49m,\n\u001b[1;32m     94\u001b[0m         command_executor\u001b[39m=\u001b[39;49mChromiumRemoteConnection(\n\u001b[1;32m     95\u001b[0m             remote_server_addr\u001b[39m=\u001b[39;49m\u001b[39mself\u001b[39;49m\u001b[39m.\u001b[39;49mservice\u001b[39m.\u001b[39;49mservice_url,\n\u001b[1;32m     96\u001b[0m             browser_name\u001b[39m=\u001b[39;49mbrowser_name, vendor_prefix\u001b[39m=\u001b[39;49mvendor_prefix,\n\u001b[1;32m     97\u001b[0m             keep_alive\u001b[39m=\u001b[39;49mkeep_alive, ignore_proxy\u001b[39m=\u001b[39;49m_ignore_proxy),\n\u001b[1;32m     98\u001b[0m         options\u001b[39m=\u001b[39;49moptions)\n\u001b[1;32m     99\u001b[0m \u001b[39mexcept\u001b[39;00m \u001b[39mException\u001b[39;00m:\n\u001b[1;32m    100\u001b[0m     \u001b[39mself\u001b[39m\u001b[39m.\u001b[39mquit()\n",
      "File \u001b[0;32m/usr/local/lib/python3.8/dist-packages/selenium/webdriver/remote/webdriver.py:275\u001b[0m, in \u001b[0;36mWebDriver.__init__\u001b[0;34m(self, command_executor, desired_capabilities, browser_profile, proxy, keep_alive, file_detector, options)\u001b[0m\n\u001b[1;32m    273\u001b[0m \u001b[39mself\u001b[39m\u001b[39m.\u001b[39m_authenticator_id \u001b[39m=\u001b[39m \u001b[39mNone\u001b[39;00m\n\u001b[1;32m    274\u001b[0m \u001b[39mself\u001b[39m\u001b[39m.\u001b[39mstart_client()\n\u001b[0;32m--> 275\u001b[0m \u001b[39mself\u001b[39;49m\u001b[39m.\u001b[39;49mstart_session(capabilities, browser_profile)\n",
      "File \u001b[0;32m/usr/local/lib/python3.8/dist-packages/selenium/webdriver/remote/webdriver.py:365\u001b[0m, in \u001b[0;36mWebDriver.start_session\u001b[0;34m(self, capabilities, browser_profile)\u001b[0m\n\u001b[1;32m    363\u001b[0m w3c_caps \u001b[39m=\u001b[39m _make_w3c_caps(capabilities)\n\u001b[1;32m    364\u001b[0m parameters \u001b[39m=\u001b[39m {\u001b[39m\"\u001b[39m\u001b[39mcapabilities\u001b[39m\u001b[39m\"\u001b[39m: w3c_caps}\n\u001b[0;32m--> 365\u001b[0m response \u001b[39m=\u001b[39m \u001b[39mself\u001b[39;49m\u001b[39m.\u001b[39;49mexecute(Command\u001b[39m.\u001b[39;49mNEW_SESSION, parameters)\n\u001b[1;32m    366\u001b[0m \u001b[39mif\u001b[39;00m \u001b[39m'\u001b[39m\u001b[39msessionId\u001b[39m\u001b[39m'\u001b[39m \u001b[39mnot\u001b[39;00m \u001b[39min\u001b[39;00m response:\n\u001b[1;32m    367\u001b[0m     response \u001b[39m=\u001b[39m response[\u001b[39m'\u001b[39m\u001b[39mvalue\u001b[39m\u001b[39m'\u001b[39m]\n",
      "File \u001b[0;32m/usr/local/lib/python3.8/dist-packages/selenium/webdriver/remote/webdriver.py:430\u001b[0m, in \u001b[0;36mWebDriver.execute\u001b[0;34m(self, driver_command, params)\u001b[0m\n\u001b[1;32m    428\u001b[0m response \u001b[39m=\u001b[39m \u001b[39mself\u001b[39m\u001b[39m.\u001b[39mcommand_executor\u001b[39m.\u001b[39mexecute(driver_command, params)\n\u001b[1;32m    429\u001b[0m \u001b[39mif\u001b[39;00m response:\n\u001b[0;32m--> 430\u001b[0m     \u001b[39mself\u001b[39;49m\u001b[39m.\u001b[39;49merror_handler\u001b[39m.\u001b[39;49mcheck_response(response)\n\u001b[1;32m    431\u001b[0m     response[\u001b[39m'\u001b[39m\u001b[39mvalue\u001b[39m\u001b[39m'\u001b[39m] \u001b[39m=\u001b[39m \u001b[39mself\u001b[39m\u001b[39m.\u001b[39m_unwrap_value(\n\u001b[1;32m    432\u001b[0m         response\u001b[39m.\u001b[39mget(\u001b[39m'\u001b[39m\u001b[39mvalue\u001b[39m\u001b[39m'\u001b[39m, \u001b[39mNone\u001b[39;00m))\n\u001b[1;32m    433\u001b[0m     \u001b[39mreturn\u001b[39;00m response\n",
      "File \u001b[0;32m/usr/local/lib/python3.8/dist-packages/selenium/webdriver/remote/errorhandler.py:247\u001b[0m, in \u001b[0;36mErrorHandler.check_response\u001b[0;34m(self, response)\u001b[0m\n\u001b[1;32m    245\u001b[0m         alert_text \u001b[39m=\u001b[39m value[\u001b[39m'\u001b[39m\u001b[39malert\u001b[39m\u001b[39m'\u001b[39m]\u001b[39m.\u001b[39mget(\u001b[39m'\u001b[39m\u001b[39mtext\u001b[39m\u001b[39m'\u001b[39m)\n\u001b[1;32m    246\u001b[0m     \u001b[39mraise\u001b[39;00m exception_class(message, screen, stacktrace, alert_text)  \u001b[39m# type: ignore[call-arg]  # mypy is not smart enough here\u001b[39;00m\n\u001b[0;32m--> 247\u001b[0m \u001b[39mraise\u001b[39;00m exception_class(message, screen, stacktrace)\n",
      "\u001b[0;31mWebDriverException\u001b[0m: Message: unknown error: Chrome failed to start: exited abnormally.\n  (unknown error: DevToolsActivePort file doesn't exist)\n  (The process started from chrome location /usr/bin/google-chrome is no longer running, so ChromeDriver is assuming that Chrome has crashed.)\nStacktrace:\n#0 0x5589c0b0b4e3 <unknown>\n#1 0x5589c083ac76 <unknown>\n#2 0x5589c0863d78 <unknown>\n#3 0x5589c0860029 <unknown>\n#4 0x5589c089eccc <unknown>\n#5 0x5589c089e47f <unknown>\n#6 0x5589c0895de3 <unknown>\n#7 0x5589c086b2dd <unknown>\n#8 0x5589c086c34e <unknown>\n#9 0x5589c0acb3e4 <unknown>\n#10 0x5589c0acf3d7 <unknown>\n#11 0x5589c0ad9b20 <unknown>\n#12 0x5589c0ad0023 <unknown>\n#13 0x5589c0a9e1aa <unknown>\n#14 0x5589c0af46b8 <unknown>\n#15 0x5589c0af4847 <unknown>\n#16 0x5589c0b04243 <unknown>\n#17 0x7ff6793d2609 start_thread\n"
     ]
    }
   ],
   "source": [
    "options = webdriver.ChromeOptions()\n",
    "options.add_argument('--no-sandbox')\n",
    "options.add_argument('--disable-dev-shm-usage')\n",
    "# options.add_argument('--headless')\n",
    "driver = webdriver.Chrome(ChromeDriverManager().install(), options=options)"
   ]
  },
  {
   "cell_type": "code",
   "execution_count": null,
   "id": "tutorial-shame",
   "metadata": {},
   "outputs": [],
   "source": [
    "driver.get(\"http://localhost:8089/stats/report\")"
   ]
  },
  {
   "cell_type": "code",
   "execution_count": null,
   "id": "perceived-mercy",
   "metadata": {},
   "outputs": [],
   "source": [
    "driver.find_element_by_xpath(\"/html/body/div/div[2]/table/tbody/tr[2]/td[10]\").text"
   ]
  },
  {
   "cell_type": "code",
   "execution_count": null,
   "id": "organized-domestic",
   "metadata": {},
   "outputs": [],
   "source": [
    "list_result = driver.find_elements_by_class_name(\"total\")[0].text.split(\" \")"
   ]
  },
  {
   "cell_type": "code",
   "execution_count": null,
   "id": "outstanding-cause",
   "metadata": {},
   "outputs": [],
   "source": []
  },
  {
   "cell_type": "code",
   "execution_count": null,
   "id": "australian-latest",
   "metadata": {},
   "outputs": [],
   "source": [
    "list_result1 = driver.find_elements_by_class_name(\"total\")[1].text.split(\" \")"
   ]
  },
  {
   "cell_type": "code",
   "execution_count": null,
   "id": "ongoing-story",
   "metadata": {},
   "outputs": [],
   "source": [
    "list_result,list_result1"
   ]
  },
  {
   "cell_type": "code",
   "execution_count": null,
   "id": "positive-bruce",
   "metadata": {},
   "outputs": [],
   "source": [
    "request = list_result[1]"
   ]
  },
  {
   "cell_type": "code",
   "execution_count": null,
   "id": "cheap-beaver",
   "metadata": {},
   "outputs": [],
   "source": [
    "ms1 = list_result1[5]"
   ]
  },
  {
   "cell_type": "code",
   "execution_count": null,
   "id": "instrumental-mixture",
   "metadata": {},
   "outputs": [],
   "source": [
    "ms2 = list_result1[7]"
   ]
  },
  {
   "cell_type": "code",
   "execution_count": null,
   "id": "stunning-stephen",
   "metadata": {},
   "outputs": [],
   "source": [
    "avg_ms = list_result[3]"
   ]
  },
  {
   "cell_type": "code",
   "execution_count": null,
   "id": "massive-germany",
   "metadata": {},
   "outputs": [],
   "source": [
    "rps = list_result[7]"
   ]
  },
  {
   "cell_type": "code",
   "execution_count": null,
   "id": "welsh-great",
   "metadata": {},
   "outputs": [],
   "source": [
    "driver.close()"
   ]
  },
  {
   "cell_type": "code",
   "execution_count": null,
   "id": "presidential-moisture",
   "metadata": {},
   "outputs": [],
   "source": []
  },
  {
   "cell_type": "code",
   "execution_count": null,
   "id": "funded-production",
   "metadata": {},
   "outputs": [],
   "source": [
    "def connection_report(url):\n",
    "    options = webdriver.ChromeOptions()\n",
    "    options.add_argument('--no-sandbox')\n",
    "    options.add_argument('--disable-dev-shm-usage')\n",
    "    options.add_argument('--headless')\n",
    "    driver = webdriver.Chrome(ChromeDriverManager().install(), options=options)\n",
    "    driver.get(\"http://localhost:8089\"+\"/stats/report\")\n",
    "    driver.find_element_by_xpath(\"/html/body/div/div[2]/table/tbody/tr[2]/td[10]\").text\n",
    "    list_result = driver.find_elements_by_class_name(\"total\")[0].text.split(\" \")\n",
    "    list_result1 = driver.find_elements_by_class_name(\"total\")[1].text.split(\" \")\n",
    "    driver.close()\n",
    "    return list_result, list_result1"
   ]
  },
  {
   "cell_type": "code",
   "execution_count": null,
   "id": "offensive-mining",
   "metadata": {},
   "outputs": [],
   "source": [
    "connection_report()"
   ]
  },
  {
   "cell_type": "code",
   "execution_count": null,
   "id": "organic-journalism",
   "metadata": {
    "scrolled": true
   },
   "outputs": [],
   "source": [
    "import subprocess, re  \n",
    "from subprocess import Popen  \n",
    "from subprocess import PIPE  \n",
    "  \n",
    "keyword = \"locust -f\"  # 設置 grep 的關鍵字  \n",
    "ptn = re.compile(\"\\s+\")  \n",
    "  \n",
    "p1 = Popen([\"ps\", \"-aux\"], stdout=PIPE)  \n",
    "p2 = Popen([\"grep\", keyword], stdin=p1.stdout, stdout=PIPE)  \n",
    "p1.stdout.close()  \n",
    "output = p2.communicate()[0]  \n",
    "lines = output.strip().decode().split(\"\\n\")\n",
    "try:\n",
    "    for line in lines: \n",
    "        items = ptn.split(line)  \n",
    "        print(\"kill {0}...\".format(items[1], subprocess.call([\"kill\", items[1]])))  \n",
    "except Exception:\n",
    "    print(\"尚未啟動服務\")"
   ]
  },
  {
   "cell_type": "code",
   "execution_count": null,
   "id": "located-greeting",
   "metadata": {},
   "outputs": [],
   "source": [
    "import subprocess\n",
    "p = subprocess.Popen(args='./buidMaster.sh', shell=True)"
   ]
  },
  {
   "cell_type": "code",
   "execution_count": null,
   "id": "guided-adrian",
   "metadata": {},
   "outputs": [],
   "source": [
    "p.wait() "
   ]
  },
  {
   "cell_type": "code",
   "execution_count": null,
   "id": "economic-neighborhood",
   "metadata": {},
   "outputs": [],
   "source": []
  }
 ],
 "metadata": {
  "kernelspec": {
   "display_name": "Python 3.8.10 64-bit",
   "language": "python",
   "name": "python3"
  },
  "language_info": {
   "codemirror_mode": {
    "name": "ipython",
    "version": 3
   },
   "file_extension": ".py",
   "mimetype": "text/x-python",
   "name": "python",
   "nbconvert_exporter": "python",
   "pygments_lexer": "ipython3",
   "version": "3.8.10"
  },
  "vscode": {
   "interpreter": {
    "hash": "31f2aee4e71d21fbe5cf8b01ff0e069b9275f58929596ceb00d14d90e3e16cd6"
   }
  }
 },
 "nbformat": 4,
 "nbformat_minor": 5
}
